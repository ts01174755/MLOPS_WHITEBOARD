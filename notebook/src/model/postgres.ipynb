{
 "cells": [
  {
   "cell_type": "code",
   "execution_count": null,
   "metadata": {},
   "outputs": [],
   "source": [
    "from src.model.postgres import PostgresDB"
   ]
  },
  {
   "attachments": {},
   "cell_type": "markdown",
   "metadata": {},
   "source": [
    "# Postgres 的server得手動起動"
   ]
  },
  {
   "cell_type": "code",
   "execution_count": null,
   "metadata": {},
   "outputs": [],
   "source": [
    "\n",
    "POSTGRESDB_DOCKER = PostgresDB(\n",
    "    user=\"postgres\",\n",
    "    password=\"postgres\",\n",
    "    host=\"postgres15.2\",  # route 在 Docker 部署的Host\n",
    "    port=\"5432\",\n",
    "    database=\"originaldb\",\n",
    ")\n",
    "POSTGRESDB_LOCAL = PostgresDB(\n",
    "    user=\"postgres\",\n",
    "    password=\"postgres\",\n",
    "    host=\"localhost\",\n",
    "    port=\"5432\",\n",
    "    database=\"originaldb\",\n",
    ")\n"
   ]
  },
  {
   "cell_type": "code",
   "execution_count": null,
   "metadata": {},
   "outputs": [],
   "source": [
    "\n",
    "# 連接儲存原始區DataBase\n",
    "POSTGRESDB_LOCAL.connect()\n",
    "\n",
    "TABLE = \"temptb\"  # 這是測試用的table\n",
    "\n",
    "# 刪除儲存原始區Schema\n",
    "POSTGRESDB_LOCAL.execute('DROP SCHEMA IF EXISTS original CASCADE;')\n",
    "\n",
    "# 建立儲存原始區Schema\n",
    "POSTGRESDB_LOCAL.execute('CREATE SCHEMA IF NOT EXISTS original;') # 建立Schema\n",
    "\n",
    "# 刪除儲存原始區資料表\n",
    "POSTGRESDB_LOCAL.execute(f\"DROP TABLE IF EXISTS original.{TABLE};\")\n",
    "\n",
    "# 建立儲存原始區資料表\n",
    "POSTGRESDB_LOCAL.execute(\n",
    "    f\"\"\"\n",
    "    CREATE TABLE IF NOT EXISTS original.{TABLE} (\\\n",
    "    id serial PRIMARY KEY, dt timestamp, memo varchar(50)\\\n",
    "    , commondata1 varchar(50), commondata2 varchar(50), commondata3 varchar(50), commondata4 varchar(50), commondata5 varchar(50)\\\n",
    "    , commondata6 varchar(50), commondata7 varchar(50), commondata8 varchar(50), commondata9 varchar(50), commondata10 varchar(50)\\\n",
    "    , uniquechar1 varchar(50), uniquechar2 varchar(50), uniquechar3 varchar(50), uniquechar4 varchar(50), uniquechar5 varchar(50)\\\n",
    "    , uniquechar6 varchar(50), uniquechar7 varchar(50), uniquechar8 varchar(50), uniquechar9 varchar(50), uniquechar10 varchar(50)\\\n",
    "    , uniqueint1 int, uniqueint2 int, uniqueint3 int, uniqueint4 int, uniqueint5 int\\\n",
    "    , uniqueint6 int, uniqueint7 int, uniqueint8 int, uniqueint9 int, uniqueint10 int\\\n",
    "    , uniquefloat1 float, uniquefloat2 float, uniquefloat3 float, uniquefloat4 float, uniquefloat5 float\\\n",
    "    , uniquefloat6 float, uniquefloat7 float, uniquefloat8 float, uniquefloat9 float, uniquefloat10 float\\\n",
    "    , uniquefloat11 float, uniquefloat12 float, uniquefloat13 float, uniquefloat14 float, uniquefloat15 float\\\n",
    "    , uniquestring1 text, uniquestring2 text, uniquestring3 text, uniquestring4 text, uniquestring5 text\\\n",
    "    , uniquejason json\\\n",
    "    );\n",
    "\"\"\"\n",
    ")  # 建立資料表\n",
    "\n",
    "# 插入測試資料\n",
    "POSTGRESDB_LOCAL.execute(\"INSERT INTO original.st_all_data (dt, memo, commondata, uniqueint, uniquefloat, uniquestring, uniquejason) VALUES (now(), 'test', 'test', 1, 1.1, 'test', '{\\\"test\\\":1}');\")  # 插入資料\n",
    "# 撈取測試資料\n",
    "rows = POSTGRESDB_LOCAL.query('SELECT * FROM crawler.original WHERE memo = \\'test\\';') # 撈取資料\n",
    "print(rows)\n",
    "\n",
    "# 刪除測試資料\n",
    "POSTGRESDB_LOCAL.execute('DELETE FROM crawler.original WHERE memo = \\'test\\';') # 刪除資料\n",
    "POSTGRESDB_LOCAL.close()\n"
   ]
  }
 ],
 "metadata": {
  "language_info": {
   "name": "python"
  },
  "orig_nbformat": 4
 },
 "nbformat": 4,
 "nbformat_minor": 2
}
