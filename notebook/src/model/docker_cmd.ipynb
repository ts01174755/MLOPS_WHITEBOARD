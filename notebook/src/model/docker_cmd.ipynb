{
 "cells": [
  {
   "cell_type": "code",
   "execution_count": 14,
   "metadata": {},
   "outputs": [
    {
     "name": "stdout",
     "output_type": "stream",
     "text": [
      "\n",
      "#################### env_config.py ####################\n"
     ]
    }
   ],
   "source": [
    "import sys\n",
    "sys.path.append('../../..')\n",
    "from src.model.docker_cmd import DockerCmd\n",
    "import env_config\n",
    "import time"
   ]
  },
  {
   "cell_type": "code",
   "execution_count": null,
   "metadata": {},
   "outputs": [],
   "source": [
    "# 下載docker image\n",
    "DockerCmd.dockerPull(tag=env_config.IMAGE_MONGODB_TAG)\n",
    "\n",
    "# 建立docker network\n",
    "DockerCmd.dockerNetworkRemove(name=f'{env_config.CONTAINER_MONGO_POSTGRES_NET}')\n",
    "\n",
    "# 建立docker network\n",
    "DockerCmd.dockerNetworkCreate(name=f'{env_config.CONTAINER_MONGO_POSTGRES_NET}')\n",
    "\n",
    "# 建立docker container\n",
    "DockerCmd.dockerRun(\n",
    "    tag=env_config.IMAGE_MONGODB_TAG,\n",
    "    name=env_config.CONTAINER_MONGODB_NAME,\n",
    "    port=env_config.CONTAINER_MONGODB_PORT_LIST,\n",
    "    volume=f'{env_config.CONTAINER_MONGODB_ROOT_MAP}:{env_config.CONTAINER_MONGODB_ROOT}',\n",
    "    envDict=env_config.CONTAINER_MONGO_ENV_DICT,\n",
    "    network=env_config.CONTAINER_MONGO_POSTGRES_NET,\n",
    "    detach=True, interactive=False, TTY=False\n",
    ")\n",
    "\n",
    "# 執行 docker 命令\n",
    "DockerCmd.dockerExec(\n",
    "    name=env_config.CONTAINER_POSTGRES_NAME,\n",
    "    cmd=f'bash -c \"echo \\'Hello World\\'\"',\n",
    "    detach=False,\n",
    "    interactive=True,\n",
    "    TTY=False,\n",
    ")"
   ]
  },
  {
   "cell_type": "code",
   "execution_count": null,
   "metadata": {},
   "outputs": [],
   "source": [
    "### 高級用法\n",
    "# 在 docker 執行檔案\n",
    "DockerCmd.dockerExec(\n",
    "    name=self.container_name,\n",
    "    cmd=f'/bin/bash -c \"cd [project_path_in_docker] && [python_interpreter_in_docker] [python_file.py] [python_params]\"',\n",
    "    detach=detach,\n",
    "    interactive=True,\n",
    "    TTY=False,\n",
    ")\n",
    "\n",
    "# 在 docker 下載套件\n",
    "DockerCmd.dockerExec(\n",
    "    name=env_config.CONTAINER_POSTGRES_NAME,\n",
    "    cmd=f'bash -c \"pip install numpy\"',\n",
    "    detach=False,\n",
    "    interactive=True,\n",
    "    TTY=False,\n",
    ")"
   ]
  }
 ],
 "metadata": {
  "kernelspec": {
   "display_name": "mlops_whiteboard",
   "language": "python",
   "name": "python3"
  },
  "language_info": {
   "codemirror_mode": {
    "name": "ipython",
    "version": 3
   },
   "file_extension": ".py",
   "mimetype": "text/x-python",
   "name": "python",
   "nbconvert_exporter": "python",
   "pygments_lexer": "ipython3",
   "version": "3.8.16"
  },
  "orig_nbformat": 4
 },
 "nbformat": 4,
 "nbformat_minor": 2
}
