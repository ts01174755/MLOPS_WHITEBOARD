{
 "cells": [
  {
   "cell_type": "code",
   "execution_count": 1,
   "metadata": {},
   "outputs": [],
   "source": [
    "from src.model.mongodb import MongoDB"
   ]
  },
  {
   "cell_type": "code",
   "execution_count": 2,
   "metadata": {},
   "outputs": [],
   "source": [
    "MONGODB_DOCKER = MongoDB(\n",
    "    user_name=\"mongodb\",\n",
    "    user_password=\"mongodb\",\n",
    "    port=27017,\n",
    "    host=\"mongodb\",\n",
    "    database_name=\"originaldb\",\n",
    ")\n",
    "MONGODB_LOCAL = MongoDB(\n",
    "    user_name=\"mongodb\",\n",
    "    user_password=\"mongodb\",\n",
    "    port=27017,\n",
    "    host=\"localhost\",\n",
    "    database_name=\"originaldb\",\n",
    ")"
   ]
  },
  {
   "attachments": {},
   "cell_type": "markdown",
   "metadata": {},
   "source": [
    "# Monogodb Datebase 給手動啟動 "
   ]
  },
  {
   "cell_type": "code",
   "execution_count": null,
   "metadata": {},
   "outputs": [],
   "source": [
    "\n",
    "COLLECTION = \"tempdb\"\n",
    "\n",
    "# 刪除collection - 等價於刪除table\n",
    "print(MONGODB_LOCAL.drop_collection(COLLECTION))\n",
    "\n",
    "# 新增collection - 等價於建立table\n",
    "print(MONGODB_LOCAL.create_collection(COLLECTION))\n",
    "\n",
    "# 新增collection - 等價於建立table\n",
    "print(MONGODB_LOCAL.create_collection('test'))\n",
    "\n",
    "# 新增document - 等價於建立row\n",
    "print(MONGODB_LOCAL.insert_document('test', {'name': 'Peter', 'age': 18}))\n",
    "\n",
    "# 查詢document - 等價於查詢row\n",
    "print(MONGODB_LOCAL.find_one_document('test', {'name': 'Peter'}))\n",
    "\n",
    "# 更新document - 等價於更新row\n",
    "print(MONGODB_LOCAL.update_document('test', {'name': 'Peter'}, {'$set': {'age': 19}}))\n",
    "\n",
    "# 刪除document - 等價於刪除row\n",
    "print(MONGODB_LOCAL.delete_document('test', {'name': 'Peter'}))\n",
    "\n",
    "# 刪除collection - 等價於刪除table\n",
    "print(MONGODB_LOCAL.drop_collection('test'))\n"
   ]
  },
  {
   "cell_type": "code",
   "execution_count": null,
   "metadata": {},
   "outputs": [],
   "source": [
    "# 高級查詢\n",
    "print(MONGODB_LOCAL.find_one_document('test', {'$or': [{'name': 'Peter'}, {'age': 18}]}))"
   ]
  }
 ],
 "metadata": {
  "kernelspec": {
   "display_name": "mlops_nsrd",
   "language": "python",
   "name": "python3"
  },
  "language_info": {
   "codemirror_mode": {
    "name": "ipython",
    "version": 3
   },
   "file_extension": ".py",
   "mimetype": "text/x-python",
   "name": "python",
   "nbconvert_exporter": "python",
   "pygments_lexer": "ipython3",
   "version": "3.8.16"
  },
  "orig_nbformat": 4
 },
 "nbformat": 4,
 "nbformat_minor": 2
}
